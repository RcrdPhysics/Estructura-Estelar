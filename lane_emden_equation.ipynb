{
 "cells": [
  {
   "cell_type": "markdown",
   "metadata": {
    "id": "cZPaqtpCifoL",
    "slideshow": {
     "slide_type": "slide"
    }
   },
   "source": [
    "# **Stellar Strcuture Modeling**"
   ]
  },
  {
   "cell_type": "markdown",
   "metadata": {
    "id": "FRR6hy_vifoM",
    "slideshow": {
     "slide_type": "fragment"
    }
   },
   "source": [
    "## *Stelar strcuture equations*"
   ]
  },
  {
   "cell_type": "markdown",
   "metadata": {
    "id": "uMWHR0tPifoN",
    "slideshow": {
     "slide_type": "fragment"
    }
   },
   "source": [
    "A very \"simple (?)\" case\n",
    "\n",
    "* Time independent\n",
    "* Stars in hydrostatic and thermal equilibrium\n",
    "* No magnetic field\n",
    "* No rotation"
   ]
  },
  {
   "cell_type": "markdown",
   "metadata": {
    "id": "h50nCPcLifoO",
    "slideshow": {
     "slide_type": "subslide"
    }
   },
   "source": [
    "### Mass conservation"
   ]
  },
  {
   "cell_type": "markdown",
   "metadata": {
    "id": "O8UQcfUcifoO",
    "slideshow": {
     "slide_type": "fragment"
    }
   },
   "source": [
    "\\begin{equation}\n",
    "\\frac{d}{d r} m\\left(r\\right) = 4 \\pi r^2 \\rho\\left(r\\right)\n",
    "\\label{eqn:mass_conservation}\n",
    "\\tag{1}\n",
    "\\end{equation}"
   ]
  },
  {
   "cell_type": "markdown",
   "metadata": {
    "id": "US-yrXfeifoP",
    "slideshow": {
     "slide_type": "subslide"
    }
   },
   "source": [
    "### Hydrostatic equilibrium"
   ]
  },
  {
   "cell_type": "markdown",
   "metadata": {
    "id": "0fjA8PEWifoQ",
    "slideshow": {
     "slide_type": "fragment"
    }
   },
   "source": [
    "\\begin{equation}\n",
    "\\frac{d}{d r} P\\left(r\\right) = - \\frac{G}{r^2} m\\left(r\\right) \\rho\\left(r\\right)\n",
    "\\label{eqn:hydrostatic_equilibrium}\n",
    "\\tag{2}\n",
    "\\end{equation}"
   ]
  },
  {
   "cell_type": "markdown",
   "metadata": {
    "id": "HY5iO3yeifoQ",
    "slideshow": {
     "slide_type": "subslide"
    }
   },
   "source": [
    "### Energy conservation"
   ]
  },
  {
   "cell_type": "markdown",
   "metadata": {
    "id": "3Y4WHxUiifoR",
    "slideshow": {
     "slide_type": "fragment"
    }
   },
   "source": [
    "\\begin{equation}\n",
    "\\frac{d}{d r} L\\left(r\\right) = 4 \\pi r^2  \\rho\\left(r\\right) \\varepsilon\n",
    "\\label{eqn:energy_conservation}\n",
    "\\tag{3}\n",
    "\\end{equation}"
   ]
  },
  {
   "cell_type": "markdown",
   "metadata": {
    "id": "AgK8EVDFifoT",
    "slideshow": {
     "slide_type": "subslide"
    }
   },
   "source": [
    "### Radiative transfer"
   ]
  },
  {
   "cell_type": "markdown",
   "metadata": {
    "id": "KGpd-V-jifoU",
    "slideshow": {
     "slide_type": "fragment"
    }
   },
   "source": [
    "* The temprature gradient"
   ]
  },
  {
   "cell_type": "markdown",
   "metadata": {
    "id": "XNGp1shMifoU",
    "slideshow": {
     "slide_type": "fragment"
    }
   },
   "source": [
    "\\begin{equation}\n",
    "\\frac{d \\ln\\left(T\\right)}{d \\ln\\left(P\\right)} = \\nabla\n",
    "\\label{eqn:radiative_transfer}\n",
    "\\tag{4}\n",
    "\\end{equation}"
   ]
  },
  {
   "cell_type": "markdown",
   "metadata": {
    "id": "9Rgyt5i0ifoV",
    "slideshow": {
     "slide_type": "subslide"
    }
   },
   "source": [
    "Usign the chain rule, equation $(4)$ can be expanded as"
   ]
  },
  {
   "cell_type": "markdown",
   "metadata": {
    "id": "5DuYWaFbifoW",
    "slideshow": {
     "slide_type": "fragment"
    }
   },
   "source": [
    "\\begin{align}\n",
    "\\frac{d \\ln\\left(T\\right)}{d T}\n",
    "\\frac{d T}{d r}\n",
    "\\frac{d r}{d P}\n",
    "\\frac{d P}{d \\ln\\left(P\\right)} & = \\nabla \\\\\n",
    "\\frac{d \\ln\\left(T\\right)}{d T}\n",
    "\\frac{d T}{d r}\n",
    "& = \\frac{d r}{d P}\n",
    "\\frac{d P}{d \\ln\\left(P\\right)} \\nabla \\\\\n",
    "\\frac{d T}{d r}\n",
    "& = \\frac{T}{P}\n",
    "\\frac{d P}{d r} \\nabla\n",
    "\\end{align}"
   ]
  },
  {
   "cell_type": "markdown",
   "metadata": {
    "id": "eG0I_cFhifoW",
    "slideshow": {
     "slide_type": "subslide"
    }
   },
   "source": [
    "Usign equation $(2)$ we have"
   ]
  },
  {
   "cell_type": "markdown",
   "metadata": {
    "id": "XeFw1NaqifoX",
    "slideshow": {
     "slide_type": "fragment"
    }
   },
   "source": [
    "\\begin{equation}\n",
    "\\frac{d}{d r}T\\left(r\\right) = \n",
    "- \\frac{G}{r^2} \n",
    "\\frac{m\\left(r\\right) \\rho\\left(r\\right) T\\left(r\\right)}{P\\left(r\\right)} \\nabla\n",
    "\\label{eqn:radiative_transfer_2}\n",
    "\\tag{5}\n",
    "\\end{equation}"
   ]
  },
  {
   "cell_type": "markdown",
   "metadata": {
    "id": "rMkTVCGyifoX",
    "slideshow": {
     "slide_type": "subslide"
    }
   },
   "source": [
    "In general"
   ]
  },
  {
   "cell_type": "markdown",
   "metadata": {
    "id": "zc_6_w7TifoY",
    "slideshow": {
     "slide_type": "fragment"
    }
   },
   "source": [
    "\\begin{equation}\n",
    "\\nabla = (1 - \\xi) \\nabla_{rad} + \\xi \\nabla_{ad}\n",
    "\\end{equation}"
   ]
  },
  {
   "cell_type": "markdown",
   "metadata": {
    "id": "F5vkVKF-ifoY",
    "slideshow": {
     "slide_type": "subslide"
    }
   },
   "source": [
    "* $\\nabla_{rad}$ is the tempraure gradient in radiative equilibrium given by"
   ]
  },
  {
   "cell_type": "markdown",
   "metadata": {
    "id": "snDBuo3yifoZ",
    "slideshow": {
     "slide_type": "fragment"
    }
   },
   "source": [
    "\\begin{equation}\n",
    "\\nabla_{rad} = \\frac{3}{16 \\pi a c} \\frac{P \\bar\\kappa}{T} \\frac{L}{GM}\n",
    "\\label{eqn:radiative_temperature_gradient}\n",
    "\\tag{6}\n",
    "\\end{equation}"
   ]
  },
  {
   "cell_type": "markdown",
   "metadata": {
    "id": "awbqqe6LifoZ",
    "slideshow": {
     "slide_type": "subslide"
    }
   },
   "source": [
    "* $\\nabla_{ad}$ is the tempraure gradient in adiabatic convective equilibrium given by"
   ]
  },
  {
   "cell_type": "markdown",
   "metadata": {
    "id": "5ZaM0gYMifoa",
    "slideshow": {
     "slide_type": "fragment"
    }
   },
   "source": [
    "\\begin{equation}\n",
    "\\nabla_{ad} = \\frac{\\gamma - 1}{\\gamma}\n",
    "\\label{eqn:adiabatic_temperature_gradient}\n",
    "\\tag{7}\n",
    "\\end{equation}"
   ]
  },
  {
   "cell_type": "markdown",
   "metadata": {
    "id": "--uTr2b0ifoa",
    "slideshow": {
     "slide_type": "fragment"
    }
   },
   "source": [
    "* $\\xi$ is the \"convective efficiency\"\n",
    "    - $\\xi = 0$ for radiative equilibrium\n",
    "    - $\\xi = 1$ for adiabatic convection\n",
    "    - $0 < \\xi < 1$ for non-adiabatic convection"
   ]
  },
  {
   "cell_type": "markdown",
   "metadata": {
    "id": "mizSNp6eifob",
    "slideshow": {
     "slide_type": "skip"
    }
   },
   "source": [
    "## Boundary conditions"
   ]
  },
  {
   "cell_type": "markdown",
   "metadata": {
    "id": "RcltjgRlifob",
    "slideshow": {
     "slide_type": "subslide"
    }
   },
   "source": [
    "### Eulerian frame"
   ]
  },
  {
   "cell_type": "markdown",
   "metadata": {
    "id": "MedJJI_Zifoc",
    "slideshow": {
     "slide_type": "fragment"
    }
   },
   "source": [
    "We have our stellar structure equations specified with $r$ as the independent variable"
   ]
  },
  {
   "cell_type": "markdown",
   "metadata": {
    "id": "9VPVnD0Sifoc",
    "slideshow": {
     "slide_type": "fragment"
    }
   },
   "source": [
    "\\begin{align}\n",
    "\\frac{d}{d r} m\\left(r\\right) & = 4 \\pi r^2 \\rho\\left(r\\right) \\\\\n",
    "\\frac{d}{d r} P\\left(r\\right) & = - \\frac{G}{r^2} m\\left(r\\right) \\rho\\left(r\\right) \\\\\n",
    "\\frac{d}{d r} L\\left(r\\right) & = 4 \\pi r^2  \\rho\\left(r\\right) \\varepsilon \\\\\n",
    "\\frac{d}{d r} T\\left(r\\right) & = - \\frac{G}{r^2} \\frac{m\\left(r\\right) \\rho\\left(r\\right) T\\left(r\\right)}{P\\left(r\\right)} \\nabla \\\\\n",
    "\\end{align}"
   ]
  },
  {
   "cell_type": "markdown",
   "metadata": {
    "id": "aM4e1bRPifod",
    "slideshow": {
     "slide_type": "subslide"
    }
   },
   "source": [
    "### Lagrangian frame"
   ]
  },
  {
   "cell_type": "markdown",
   "metadata": {
    "id": "aH2_q0d4ifod",
    "slideshow": {
     "slide_type": "fragment"
    }
   },
   "source": [
    "Is convenient for us to deal with our set of equations using the mass as the independen variable"
   ]
  },
  {
   "cell_type": "markdown",
   "metadata": {
    "id": "ce3Z5wHRifoe",
    "slideshow": {
     "slide_type": "fragment"
    }
   },
   "source": [
    "\\begin{align}\n",
    "\\frac{d}{d m} r\\left(m\\right) & = \\frac{r}{4 \\pi r^2\\left(m\\right) \\rho\\left(m\\right)} \\\\\n",
    "\\frac{d}{d m} P\\left(m\\right) & = - \\frac{G m}{4 \\pi r^2\\left(m\\right)}  \\\\\n",
    "\\frac{d}{d m} L\\left(m\\right) & = \\varepsilon \\\\\n",
    "\\frac{d}{d m} T\\left(m\\right) & = - \\frac{G m}{4 \\pi r^4\\left(m\\right)} \\frac{T\\left(m\\right)}{P\\left(m\\right)} \\nabla \\\\\n",
    "\\end{align}"
   ]
  },
  {
   "cell_type": "markdown",
   "metadata": {
    "id": "goIKWBVSifoe",
    "slideshow": {
     "slide_type": "subslide"
    }
   },
   "source": [
    "### Boundary conditions"
   ]
  },
  {
   "cell_type": "markdown",
   "metadata": {
    "id": "Alf0-lM2ifof",
    "slideshow": {
     "slide_type": "fragment"
    }
   },
   "source": [
    "Since we have 4 equations we need 4 boundary counditions to solve te eqations above"
   ]
  },
  {
   "cell_type": "markdown",
   "metadata": {
    "id": "Y2_8ZIYiifof",
    "slideshow": {
     "slide_type": "fragment"
    }
   },
   "source": [
    "* At the center"
   ]
  },
  {
   "cell_type": "markdown",
   "metadata": {
    "id": "CO6rWdF8ifog",
    "slideshow": {
     "slide_type": "fragment"
    }
   },
   "source": [
    "\\begin{align}\n",
    "r\\left(m = 0\\right) & = 0 \\\\\n",
    "L\\left(m = 0\\right) & = 0\n",
    "\\end{align}"
   ]
  },
  {
   "cell_type": "markdown",
   "metadata": {
    "id": "4l03t5wfifog",
    "slideshow": {
     "slide_type": "subslide"
    }
   },
   "source": [
    "* At the surface"
   ]
  },
  {
   "cell_type": "markdown",
   "metadata": {
    "id": "hwjAq5sBifoh",
    "slideshow": {
     "slide_type": "fragment"
    }
   },
   "source": [
    "\\begin{align}\n",
    "P\\left(m = M_\\star\\right) & = 0 \\\\\n",
    "T\\left(m = M_\\star\\right) & = T_{eff}\n",
    "\\end{align}"
   ]
  },
  {
   "cell_type": "markdown",
   "metadata": {
    "id": "4JNqFO85ifoh",
    "slideshow": {
     "slide_type": "fragment"
    }
   },
   "source": [
    "with the effective temperature $T_{eff}$ given by "
   ]
  },
  {
   "cell_type": "markdown",
   "metadata": {
    "id": "c7T6yNzoifoi",
    "slideshow": {
     "slide_type": "fragment"
    }
   },
   "source": [
    "\\begin{equation}\n",
    "T_{eff} = \\left(\\frac{L_\\star}{4 \\pi R_\\star \\sigma}\\right)^\\frac{1}{4}\n",
    "\\label{eqn:effective_temperature}\n",
    "\\tag{8}\n",
    "\\end{equation}"
   ]
  },
  {
   "cell_type": "markdown",
   "metadata": {
    "id": "EWO5FE2Gifoj",
    "slideshow": {
     "slide_type": "fragment"
    }
   },
   "source": [
    "where $L_\\star$ and $R_\\star$ are the Luminocity at the  surface of the star and the star redius, respectively."
   ]
  },
  {
   "cell_type": "markdown",
   "metadata": {
    "id": "PmGq7aKoifoj",
    "slideshow": {
     "slide_type": "subslide"
    }
   },
   "source": [
    "## Constitutive relations"
   ]
  },
  {
   "cell_type": "markdown",
   "metadata": {
    "id": "8dXBVwyFifok",
    "slideshow": {
     "slide_type": "fragment"
    }
   },
   "source": [
    "* All our equations, and our magnitudes, are given as function of $\\varepsilon$, $\\rho$ and  $\\nabla$\n",
    "* $\\nabla$ is dependent of aditional parameters $\\bar\\kappa$ and $\\xi$\n",
    "  - $\\bar\\kappa$ is the opacity\n",
    "  - $\\xi$ is the convective efficiency\n",
    "* These quantities can be expresed in terms of state variables and chemical composition\n",
    "  - $P$ pressure\n",
    "  - $T$ temperature\n",
    "  - $\\chi_i$, chemical composition\n",
    "* The relation between this magnitudes are constitutive relations and complements the stellar structure equations"
   ]
  },
  {
   "cell_type": "markdown",
   "metadata": {
    "id": "49812ftNifok",
    "slideshow": {
     "slide_type": "subslide"
    }
   },
   "source": [
    "\\begin{equation}\n",
    "    \\begin{array}[lcrr] \\\\\n",
    "        \\rho        & = & \\rho        (P, T, \\chi_i)                  & \\mathrm{(state\\ equation)}          \\\\\n",
    "        \\varepsilon & = & \\varepsilon (P, T, \\chi_i)                  & \\mathrm{(energy\\ generation\\ rate)} \\\\\n",
    "        \\bar\\kappa  & = & \\bar\\kappa  (P, T, \\chi_i)                  & \\mathrm{(opacity)}                  \\\\\n",
    "        \\xi         & = & \\xi         (P, T, \\chi_i)                  & \\mathrm{(convective\\ efficiency)}   \\\\\n",
    "        \\nabla      & = & \\nabla      (P, T, \\chi_i, \\bar\\kappa, \\xi) & \\mathrm{(energy\\ transport)}        \\\\\n",
    "    \\end{array}\n",
    "\\end{equation}"
   ]
  },
  {
   "cell_type": "markdown",
   "metadata": {
    "id": "CM8JoOpzifol",
    "slideshow": {
     "slide_type": "subslide"
    }
   },
   "source": [
    "## Polytropes"
   ]
  },
  {
   "cell_type": "markdown",
   "metadata": {
    "id": "DSXFCrfrifom",
    "slideshow": {
     "slide_type": "fragment"
    }
   },
   "source": [
    "* Polytropes provide a simplified stellar model that can be used to tell some approximate behavior of stellar interiors\n",
    "* In polytropes the relation between pressure $P$ and density $\\rho$ are related by"
   ]
  },
  {
   "cell_type": "markdown",
   "metadata": {
    "id": "IGafBOtoifon",
    "slideshow": {
     "slide_type": "fragment"
    }
   },
   "source": [
    "\\begin{equation}\n",
    "P = K \\rho^{1 + \\frac{1}{n}}\n",
    "\\label{eqn:politrope_pressure}\n",
    "\\tag{9}\n",
    "\\end{equation}"
   ]
  },
  {
   "cell_type": "markdown",
   "metadata": {
    "id": "LDMBZPxPifoo",
    "slideshow": {
     "slide_type": "fragment"
    }
   },
   "source": [
    "* $n$ is called the *polytropic index*\n",
    "* $K$ and $n$ are constants\n",
    "* Polytropic models allow us to avoid dealing with both the heat transfer and thermal balance\n"
   ]
  },
  {
   "cell_type": "markdown",
   "metadata": {
    "id": "I714UZi_ifoo",
    "slideshow": {
     "slide_type": "subslide"
    }
   },
   "source": [
    "* **It does not necessarily have to be that the EOS is in this form, rather, the stratification of the star could obey this type of scaling**"
   ]
  },
  {
   "cell_type": "markdown",
   "metadata": {
    "id": "kZ9yuzJ3ifoo",
    "slideshow": {
     "slide_type": "slide"
    }
   },
   "source": [
    "### The Lane-Endem equation"
   ]
  },
  {
   "cell_type": "markdown",
   "metadata": {
    "id": "Yrd3lootifop",
    "slideshow": {
     "slide_type": "subslide"
    }
   },
   "source": [
    "From hydrostatic equilibrium equation in the Eulerian frame, we have"
   ]
  },
  {
   "cell_type": "markdown",
   "metadata": {
    "id": "xdp_llioifop",
    "slideshow": {
     "slide_type": "fragment"
    }
   },
   "source": [
    "\\begin{align}\n",
    "\\frac{d}{d r} P\\left(r\\right) & = - \\frac{G}{r^2} m\\left(r\\right) \\rho\\left(r\\right) \\\\\n",
    "\\frac{r^2}{\\rho\\left(r\\right)} \\frac{d}{d r} P\\left(r\\right) & = - G m\\left(r\\right)\n",
    "\\end{align}"
   ]
  },
  {
   "cell_type": "markdown",
   "metadata": {
    "id": "80ndTbh1ifoq",
    "slideshow": {
     "slide_type": "subslide"
    }
   },
   "source": [
    "Taking derivative and using the mass conservation equation"
   ]
  },
  {
   "cell_type": "markdown",
   "metadata": {
    "id": "q5gOifn1ifoq",
    "slideshow": {
     "slide_type": "fragment"
    }
   },
   "source": [
    "\\begin{align}\n",
    "\\frac{r^2}{\\rho\\left(r\\right)} \\frac{d}{d r} P\\left(r\\right) & = - G m\\left(r\\right) \\\\\n",
    "\\frac{d}{dr}\\left(\\frac{r^2}{\\rho\\left(r\\right)} \\frac{d}{d r} P\\left(r\\right)\\right) & = - G \\frac{d}{dr}m\\left(r\\right) \\\\\n",
    "\\frac{d}{dr}\\left(\\frac{r^2}{\\rho\\left(r\\right)} \\frac{d}{d r} P\\left(r\\right)\\right) & = - 4 \\pi G r^2 \\rho\\left(r\\right) \\\\\n",
    "\\frac{1}{r^2}\\frac{d}{dr}\\left(\\frac{r^2}{\\rho\\left(r\\right)} \\frac{d}{d r} P\\left(r\\right)\\right) & = - 4 \\pi G \\rho\\left(r\\right)\n",
    "\\label{eqn:lane_endem_1}\n",
    "\\tag{10}\n",
    "\\end{align}"
   ]
  },
  {
   "cell_type": "markdown",
   "metadata": {
    "id": "v5PwY9VLifor",
    "slideshow": {
     "slide_type": "subslide"
    }
   },
   "source": [
    "To make the last expression dimensionless, we postulate a function $\\theta$ such that"
   ]
  },
  {
   "cell_type": "markdown",
   "metadata": {
    "id": "58CLzTeoifor",
    "slideshow": {
     "slide_type": "fragment"
    }
   },
   "source": [
    "$$\n",
    "\\rho(r) = \\rho_c \\theta^n\\left(r\\right)\n",
    "\\label{eqn:theta_density}\n",
    "\\tag{11}\n",
    "$$"
   ]
  },
  {
   "cell_type": "markdown",
   "metadata": {
    "id": "cQM4TiKFifos",
    "slideshow": {
     "slide_type": "fragment"
    }
   },
   "source": [
    "where $\\rho_c$ is the density at the center of the star"
   ]
  },
  {
   "cell_type": "markdown",
   "metadata": {
    "id": "Lq__YAsuifos",
    "slideshow": {
     "slide_type": "fragment"
    }
   },
   "source": [
    "$$\n",
    "\\rho_c = \\rho\\left(r = 0\\right)\n",
    "$$"
   ]
  },
  {
   "cell_type": "markdown",
   "metadata": {
    "id": "L8tDoXwaifot",
    "slideshow": {
     "slide_type": "subslide"
    }
   },
   "source": [
    "Replacing $(10)$ in $(9)$ we get"
   ]
  },
  {
   "cell_type": "markdown",
   "metadata": {
    "id": "JG0Sze4Uifou",
    "slideshow": {
     "slide_type": "fragment"
    }
   },
   "source": [
    "\\begin{align}\n",
    "P & = K \\rho^{1 + \\frac{1}{n}} \\\\\n",
    "P  & = K \\left(\\rho_c \\theta^n \\left(r\\right)\\right)^{1 + \\frac{1}{n}} \\\\\n",
    "P  & = K \\rho_c^{1 + \\frac{1}{n}} \\rho_c \\theta^{1 + n}\\left(r\\right) \\\\\n",
    "P  & = P_c \\theta^{1 + n}\\left(r\\right)\n",
    "\\label{eqn:theta_pressure}\n",
    "\\tag{12}\n",
    "\\end{align}"
   ]
  },
  {
   "cell_type": "markdown",
   "metadata": {
    "id": "N1oAWbkPifou",
    "slideshow": {
     "slide_type": "fragment"
    }
   },
   "source": [
    "where"
   ]
  },
  {
   "cell_type": "markdown",
   "metadata": {
    "id": "4WFeaekaifov",
    "slideshow": {
     "slide_type": "fragment"
    }
   },
   "source": [
    "\\begin{equation}\n",
    "P_c = K \\rho_c^{1 + \\frac{1}{n}}\n",
    "\\end{equation}"
   ]
  },
  {
   "cell_type": "markdown",
   "metadata": {
    "id": "p4dfmda_ifov",
    "slideshow": {
     "slide_type": "subslide"
    }
   },
   "source": [
    "Replacing $(11)$ and $(12)$ in $(10)$"
   ]
  },
  {
   "cell_type": "markdown",
   "metadata": {
    "id": "eKcS1rMLyIrF",
    "slideshow": {
     "slide_type": "fragment"
    }
   },
   "source": [
    "$$\n",
    "\\frac{1}{r^2}\\frac{d}{dr}\\left(\\frac{r^2}{\\rho\\left(r\\right)} \\frac{d}{d r} P\\left(r\\right)\\right)  = - 4 \\pi G \\rho\\left(r\\right) \\\\\n",
    "\\frac{1}{r^2 }\\frac{d}{dr}\\left(\\frac{r^2}{\\rho_c \\theta^n\\left(r\\right)}\\frac{d}{dr}\\left(P_c \\theta^{n+1}\\left(r\\right)\\right)\\right)  = - 4 \\pi G \\rho_c \\theta^n\\left(r\\right) \\\\\n",
    "\\frac{1}{r^2 }\\frac{d}{dr}\\left(\\frac{P_c r^2 (n + 1 ) }{4 \\pi G \\rho_c^2 }\\frac{d\\theta}{dr}\\right)  = - \\theta^n\n",
    "$$"
   ]
  },
  {
   "cell_type": "markdown",
   "metadata": {
    "id": "WkF3Bq8mifow",
    "slideshow": {
     "slide_type": "subslide"
    }
   },
   "source": [
    "Here we introduce _\"length scale\"_ the constant given by"
   ]
  },
  {
   "cell_type": "markdown",
   "metadata": {
    "id": "PMAJHqMbifox",
    "slideshow": {
     "slide_type": "fragment"
    }
   },
   "source": [
    "$$\n",
    "r^2_n = \\frac{(n + 1)P_c}{4 \\pi G \\rho_c^2 }\n",
    "\\label{eqn:length_scale}\n",
    "\\tag{14}\n",
    "$$"
   ]
  },
  {
   "cell_type": "markdown",
   "metadata": {
    "id": "Kqq6vRpDifoy",
    "slideshow": {
     "slide_type": "subslide"
    }
   },
   "source": [
    "An the function $\\xi$"
   ]
  },
  {
   "cell_type": "markdown",
   "metadata": {
    "id": "_l_j28QLifoy",
    "slideshow": {
     "slide_type": "fragment"
    }
   },
   "source": [
    "$$r = r_n \\xi\n",
    "\\label{eqn:xi_eq}\n",
    "\\tag{15}\n",
    "$$\n"
   ]
  },
  {
   "cell_type": "markdown",
   "metadata": {
    "id": "6ev7Bddbifoy",
    "slideshow": {
     "slide_type": "subslide"
    }
   },
   "source": [
    "Replacing $(14)$ and $(15)$ in $(13)$, finally we get the Lane-Endem equation"
   ]
  },
  {
   "cell_type": "markdown",
   "metadata": {
    "id": "hJ-IAc8Cifoz",
    "slideshow": {
     "slide_type": "fragment"
    }
   },
   "source": [
    "\\begin{align}\n",
    "\\frac{1}{r^2 }\\frac{d}{dr}\\left(r^2 r_n^2 \\frac{d\\theta}{dr}\\right) & = - \\theta^n \\\\\n",
    "\\frac{1}{r_n^2 \\xi^2 r_n}\\frac{d}{d\\xi}\\left(\\frac{r_n^2 \\xi^2 r_n^2}{r_n} \\frac{d\\theta}{d\\xi}\\right) & = - \\theta^n \\\\\n",
    "\\frac{1}{\\xi^2}\\frac{d}{d\\xi}\\left(\\xi^2\\frac{d\\theta}{d\\xi}\\right) & = - \\theta^n\n",
    "\\label{eqn:lane_endem}\n",
    "\\tag{16}\n",
    "\\end{align}"
   ]
  },
  {
   "cell_type": "markdown",
   "metadata": {
    "id": "41k0-4n7ifoz",
    "slideshow": {
     "slide_type": "subslide"
    }
   },
   "source": [
    "For this eqation we need boundary conditions to define the problem. From $(11)$ and $(12)$\n",
    "\n",
    "* $\\rho_c$ is the central density\n",
    "* $P_c$ is the pressure ad the center and is 0 due to sperical symmety and hydrostatic equilibrium\n",
    "\n",
    "then"
   ]
  },
  {
   "cell_type": "markdown",
   "metadata": {
    "id": "U97r4muNifo0",
    "slideshow": {
     "slide_type": "fragment"
    }
   },
   "source": [
    "\\begin{align}\n",
    "\\theta(\\xi = 0) & = 1 \\\\\n",
    "\\left.\\frac{d\\theta}{d\\xi}\\right|_{\\xi=0} & = 0\n",
    "\\end{align}"
   ]
  },
  {
   "cell_type": "markdown",
   "metadata": {
    "id": "W5PkTXjYifo0",
    "slideshow": {
     "slide_type": "subslide"
    }
   },
   "source": [
    "* Integrating outward, the surface will be defined as the first zero of θ.\n",
    "\n",
    "\\begin{equation}\n",
    "\\xi_1: \\theta\\left(\\xi_1\\right) = 0\n",
    "\\end{equation}"
   ]
  },
  {
   "cell_type": "markdown",
   "metadata": {
    "id": "eAcKnK3rifo1",
    "slideshow": {
     "slide_type": "fragment"
    }
   },
   "source": [
    "* The physical radius of the star is then just\n",
    "\n",
    "\\begin{equation}\n",
    "R_\\star = r_n\\xi_1\n",
    "\\end{equation}"
   ]
  },
  {
   "cell_type": "markdown",
   "metadata": {
    "id": "_wUWW4tcifo1",
    "slideshow": {
     "slide_type": "fragment"
    }
   },
   "source": [
    "* Solutions that do not diverge (because of the symmetry and boundary conditions) are called E-solutions"
   ]
  },
  {
   "cell_type": "markdown",
   "metadata": {
    "id": "uXUuWzxeifo1",
    "slideshow": {
     "slide_type": "slide"
    }
   },
   "source": [
    "### Analytic Solutions for the Lane-Endem equation (With `sympy`! :D)"
   ]
  },
  {
   "cell_type": "markdown",
   "metadata": {
    "id": "iZDRPn1wifo2",
    "slideshow": {
     "slide_type": "subslide"
    }
   },
   "source": [
    "* Only n = 0, 1, and 5 have analytic solutions"
   ]
  }
 ],
 "metadata": {
  "celltoolbar": "Slideshow",
  "colab": {
   "name": "lane-emden-equation.ipynb",
   "provenance": []
  },
  "kernelspec": {
   "display_name": "Python 3",
   "language": "python",
   "name": "python3"
  },
  "language_info": {
   "codemirror_mode": {
    "name": "ipython",
    "version": 3
   },
   "file_extension": ".py",
   "mimetype": "text/x-python",
   "name": "python",
   "nbconvert_exporter": "python",
   "pygments_lexer": "ipython3",
   "version": "3.8.3"
  },
  "toc-autonumbering": true,
  "toc-showcode": false,
  "toc-showmarkdowntxt": false
 },
 "nbformat": 4,
 "nbformat_minor": 1
}
