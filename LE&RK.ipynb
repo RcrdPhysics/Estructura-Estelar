{
 "cells": [
  {
   "cell_type": "markdown",
   "metadata": {
    "slideshow": {
     "slide_type": "slide"
    }
   },
   "source": [
    "# **Lane-Endem**\n",
    "## Tratamiento numérico\n",
    "\n",
    "Tópicos Avanzados 2\\\n",
    "Ricardo  Quispe"
   ]
  },
  {
   "cell_type": "markdown",
   "metadata": {
    "slideshow": {
     "slide_type": "subslide"
    }
   },
   "source": [
    "Ecuación de Lane-Endem\n",
    "$$ \\frac{d^2 \\theta}{d\\xi^2} + \\frac{2}{\\xi} \\frac{d\\theta}{d\\xi} = \\theta^n $$\n",
    "\n"
   ]
  },
  {
   "cell_type": "markdown",
   "metadata": {
    "slideshow": {
     "slide_type": "fragment"
    }
   },
   "source": [
    "$$\\xi = \\frac{r}{r_n}$$"
   ]
  },
  {
   "cell_type": "markdown",
   "metadata": {
    "slideshow": {
     "slide_type": "subslide"
    }
   },
   "source": [
    "$$ r_n = \\left[ \\frac{(n+1)P_c}{4\\pi G \\rho_c^2}  \\right]^{1/2} $$\n",
    "\n",
    "$$ \\theta (\\xi)|_{\\xi=0} = 1 , \\\\ \\theta' (\\xi)|_{\\xi=0} = 0$$"
   ]
  },
  {
   "cell_type": "markdown",
   "metadata": {
    "slideshow": {
     "slide_type": "subslide"
    }
   },
   "source": [
    "Soluciones analíticas:\n",
    "\n",
    "$$ \\theta_0(\\xi) = 1 - \\frac{\\xi^2}{6}$$\n",
    "\n",
    "$$ \\theta_1(\\xi) = \\frac{sen(\\xi)}{\\xi} $$"
   ]
  },
  {
   "cell_type": "markdown",
   "metadata": {},
   "source": [
    "$$x_1(0) = 1 \\quad ; \\quad  x_2(0) = 0$$"
   ]
  },
  {
   "cell_type": "markdown",
   "metadata": {},
   "source": [
    "$$\\frac{d}{d\\xi}\\begin{pmatrix} x_1\\\\ x_2 \\end{pmatrix} = \\begin{pmatrix} 0 & 1 \\\\ -1 & \\frac{-2}{\\xi}\\end{pmatrix} \\begin{pmatrix} x_1^n\\\\x_2\\end{pmatrix}$$"
   ]
  },
  {
   "cell_type": "markdown",
   "metadata": {},
   "source": [
    "## Runge Kutta\n",
    "\n",
    "$$ \\frac{dy}{dt} = f(y,t) $$\n",
    "$$y(t=0) = y_0$$\n",
    "\n",
    "$v_0=y_0$\n",
    "\n",
    "$v_{n+1}=v_n+\\frac{k}{6}(q_1+2q_2+2q_3+q_4)$\n",
    "\n",
    "$q1=f(u,t)$\n",
    "\n",
    "$q2=f(u+dt*q_1/2,t+dt/2)$\n",
    "\n",
    "$q3=f(u+dt*q_2/2,t+dt/2)$\n",
    "\n",
    "$q4=f(u+dt*q_3,t+dt)$\n",
    "\n"
   ]
  },
  {
   "cell_type": "code",
   "execution_count": 30,
   "metadata": {},
   "outputs": [],
   "source": [
    "import numpy as np\n",
    "import matplotlib.pyplot as plt\n",
    "#\n",
    "n=0\n",
    "t=0.001\n",
    "xinc=1\n",
    "vinc=0\n",
    "#u=np.array([xinc,vinc])\n",
    "#\n",
    "\n",
    "def F(u,t):\n",
    "        # array(x2, -2/ξ x2-x1^n)\n",
    "        return np.array([u[1], -(2/t)*u[1]-u[0]**n])\n",
    "\n",
    "u=np.array([xinc,vinc])\n",
    "\n",
    "tsol=[t]\n",
    "rsol=[u[0]]\n",
    "vsol=[u[1]]\n",
    "tfin=4\n",
    "dt=0.001\n",
    "while t<tfin:\n",
    "    k1=F(u,t)\n",
    "    k2=F(u+dt*k1/2,t+dt/2)\n",
    "    k3=F(u+dt*k2/2,t+dt/2)\n",
    "    k4=F(u+dt*k3,t+dt)\n",
    "    u=u+(k1+2*k2+2*k3+k4)*dt/6\n",
    "    t=t+dt\n",
    "    rsol.append(u[0])\n",
    "    vsol.append(u[1])\n",
    "    tsol.append(t)  "
   ]
  },
  {
   "cell_type": "code",
   "execution_count": 55,
   "metadata": {},
   "outputs": [],
   "source": [
    "def sol_le(n,t_ini,t_fin,h,ξ0,dξ0):\n",
    "    import numpy as np\n",
    "    import matplotlib.pyplot as plt\n",
    "    #\n",
    "    t=t_ini\n",
    "    xinc=ξ0 \n",
    "    vinc=dξ0\n",
    "    #u=np.array([xinc,vinc])\n",
    "    #\n",
    "\n",
    "    def F(u,t):\n",
    "            # array(x2, -2/ξ x2-x1^n)\n",
    "            return np.array([u[1], -(2/t)*u[1]-u[0]**n])\n",
    "\n",
    "    u=np.array([xinc,vinc])\n",
    "\n",
    "    tsol=[t]\n",
    "    rsol=[u[0]]\n",
    "    vsol=[u[1]]\n",
    "    tfin=t_fin\n",
    "    dt=h\n",
    "    while t<tfin:\n",
    "        k1=F(u,t)\n",
    "        k2=F(u+dt*k1/2,t+dt/2)\n",
    "        k3=F(u+dt*k2/2,t+dt/2)\n",
    "        k4=F(u+dt*k3,t+dt)\n",
    "        u=u+(k1+2*k2+2*k3+k4)*dt/6\n",
    "        t=t+dt\n",
    "        rsol.append(u[0])\n",
    "        vsol.append(u[1])\n",
    "        tsol.append(t)\n",
    "    return(np.array([tsol,rsol,vsol]))\n",
    "    "
   ]
  },
  {
   "cell_type": "code",
   "execution_count": 1,
   "metadata": {},
   "outputs": [],
   "source": [
    "import numpy as np\n",
    "import matplotlib.pyplot as plt\n",
    "#\n",
    "n=1\n",
    "t=0.001\n",
    "xinc=1\n",
    "vinc=0\n",
    "#u=np.array([xinc,vinc])\n",
    "#\n",
    "\n",
    "def F(u,t):\n",
    "        # array(x2, -2/ξ x2-x1^n)\n",
    "        return np.array([u[1], -(2/t)*u[1]-u[0]**n])\n",
    "\n",
    "u=np.array([xinc,vinc])\n",
    "\n",
    "tsol1=[t]\n",
    "rsol1=[u[0]]\n",
    "vsol1=[u[1]]\n",
    "tfin=4\n",
    "dt=0.001\n",
    "while t<tfin:\n",
    "    k1=F(u,t)\n",
    "    k2=F(u+dt*k1/2,t+dt/2)\n",
    "    k3=F(u+dt*k2/2,t+dt/2)\n",
    "    k4=F(u+dt*k3,t+dt)\n",
    "    u=u+(k1+2*k2+2*k3+k4)*dt/6\n",
    "    t=t+dt\n",
    "    rsol1.append(u[0])\n",
    "    vsol1.append(u[1])\n",
    "    tsol1.append(t)  "
   ]
  },
  {
   "cell_type": "markdown",
   "metadata": {},
   "source": [
    "Cambio de variable:\n",
    "\n",
    "$$x_1= \\theta \\quad ; \\quad x_2= \\theta'$$\n",
    "\n",
    "Diferenciando $x_1$ y $x_2$:\n",
    "$$ x_1'=\\theta' = x_2 \\\\ x_2' = -\\frac{2}{\\xi} x_2 - x_1^n $$\n",
    "\n"
   ]
  },
  {
   "cell_type": "code",
   "execution_count": 2,
   "metadata": {},
   "outputs": [
    {
     "data": {
      "text/plain": [
       "<function matplotlib.pyplot.show(*args, **kw)>"
      ]
     },
     "execution_count": 2,
     "metadata": {},
     "output_type": "execute_result"
    },
    {
     "data": {
      "image/png": "[encoded data removed]",
      "text/plain": [
       "<Figure size 432x288 with 1 Axes>"
      ]
     },
     "metadata": {
      "needs_background": "light"
     },
     "output_type": "display_data"
    }
   ],
   "source": [
    "plt.plot(tsol1,rsol1)\n",
    "plt.plot(tsol1, np.sin(np.array(tsol1))/np.array(tsol1))\n",
    "plt.show"
   ]
  },
  {
   "cell_type": "code",
   "execution_count": 3,
   "metadata": {},
   "outputs": [
    {
     "data": {
      "text/plain": [
       "[<matplotlib.lines.Line2D at 0x1e500665dc0>]"
      ]
     },
     "execution_count": 3,
     "metadata": {},
     "output_type": "execute_result"
    },
    {
     "data": {
      "image/png": "[encoded data removed]",
      "text/plain": [
       "<Figure size 432x288 with 1 Axes>"
      ]
     },
     "metadata": {
      "needs_background": "light"
     },
     "output_type": "display_data"
    }
   ],
   "source": [
    "plt.plot(tsol1, -np.array(rsol1)+np.sin(np.array(tsol1))/np.array(tsol1))"
   ]
  },
  {
   "cell_type": "code",
   "execution_count": 33,
   "metadata": {},
   "outputs": [
    {
     "data": {
      "text/plain": [
       "<function matplotlib.pyplot.show(*args, **kw)>"
      ]
     },
     "execution_count": 33,
     "metadata": {},
     "output_type": "execute_result"
    },
    {
     "data": {
      "image/png": "[encoded data removed]",
      "text/plain": [
       "<Figure size 432x288 with 1 Axes>"
      ]
     },
     "metadata": {
      "needs_background": "light"
     },
     "output_type": "display_data"
    }
   ],
   "source": [
    "plt.plot(tsol,rsol,'g')\n",
    "plt.plot(tsol,(1-np.array(tsol)**2/6),'b')\n",
    "plt.show"
   ]
  },
  {
   "cell_type": "code",
   "execution_count": 39,
   "metadata": {},
   "outputs": [
    {
     "data": {
      "text/plain": [
       "[<matplotlib.lines.Line2D at 0x274d1220580>]"
      ]
     },
     "execution_count": 39,
     "metadata": {},
     "output_type": "execute_result"
    },
    {
     "data": {
      "image/png": "[encoded data removed]",
      "text/plain": [
       "<Figure size 432x288 with 1 Axes>"
      ]
     },
     "metadata": {
      "needs_background": "light"
     },
     "output_type": "display_data"
    }
   ],
   "source": [
    "plt.plot(tsol,-np.array(rsol)+(1-np.array(tsol)**2/6))"
   ]
  },
  {
   "cell_type": "code",
   "execution_count": 176,
   "metadata": {
    "scrolled": true
   },
   "outputs": [
    {
     "data": {
      "text/plain": [
       "array([[ 1.00000000e-03,  2.00000000e-03,  3.00000000e-03, ...,\n",
       "         6.99800000e+00,  6.99900000e+00,  7.00000000e+00],\n",
       "       [ 1.00000000e+00,  9.99999648e-01,  9.99998876e-01, ...,\n",
       "        -4.22993941e-03, -4.27114556e-03, -4.31233993e-03],\n",
       "       [ 0.00000000e+00, -5.74073866e-04, -9.58640289e-04, ...,\n",
       "        -4.12120333e-02, -4.12002575e-02, -4.11884867e-02]])"
      ]
     },
     "execution_count": 176,
     "metadata": {},
     "output_type": "execute_result"
    }
   ],
   "source": [
    "#n , tini,tfin,h,ξ0,dξ0\n",
    "le_n3=sol_le(3,0.001,7,0.001,1,0)\n",
    "le_n3"
   ]
  },
  {
   "cell_type": "code",
   "execution_count": 177,
   "metadata": {},
   "outputs": [
    {
     "name": "stdout",
     "output_type": "stream",
     "text": [
      "7000 | 7000\n"
     ]
    }
   ],
   "source": [
    "print(len(le_n3[0]), \"|\", len(ξ3))"
   ]
  },
  {
   "cell_type": "code",
   "execution_count": 202,
   "metadata": {},
   "outputs": [],
   "source": [
    "ξ3=le_n3[0]\n",
    "θ3=le_n3[1]\n",
    "dθ3=le_n3[2]"
   ]
  },
  {
   "cell_type": "code",
   "execution_count": 179,
   "metadata": {},
   "outputs": [
    {
     "data": {
      "text/plain": [
       "array([[ 1.00000000e-03,  2.00000000e-03,  3.00000000e-03, ...,\n",
       "         6.99800000e+00,  6.99900000e+00,  7.00000000e+00],\n",
       "       [ 1.00000000e+00,  9.99999648e-01,  9.99998876e-01, ...,\n",
       "        -4.22993941e-03, -4.27114556e-03, -4.31233993e-03],\n",
       "       [ 0.00000000e+00, -5.74073866e-04, -9.58640289e-04, ...,\n",
       "        -4.12120333e-02, -4.12002575e-02, -4.11884867e-02]])"
      ]
     },
     "execution_count": 179,
     "metadata": {},
     "output_type": "execute_result"
    }
   ],
   "source": [
    "le_n3"
   ]
  },
  {
   "cell_type": "code",
   "execution_count": 180,
   "metadata": {
    "scrolled": true
   },
   "outputs": [
    {
     "data": {
      "text/plain": [
       "Text(0.5, 1.0, 'LE con n=3')"
      ]
     },
     "execution_count": 180,
     "metadata": {},
     "output_type": "execute_result"
    },
    {
     "data": {
      "image/png": "[encoded data removed]",
      "text/plain": [
       "<Figure size 432x288 with 1 Axes>"
      ]
     },
     "metadata": {
      "needs_background": "light"
     },
     "output_type": "display_data"
    }
   ],
   "source": [
    "plt.plot(ξ3,θ3)\n",
    "plt.xlabel('ξ')\n",
    "plt.ylabel('θ')\n",
    "plt.axhline(y=0, color='r',linestyle='-')\n",
    "plt.title('LE con n=3')"
   ]
  },
  {
   "cell_type": "code",
   "execution_count": 181,
   "metadata": {},
   "outputs": [
    {
     "data": {
      "text/plain": [
       "7000"
      ]
     },
     "execution_count": 181,
     "metadata": {},
     "output_type": "execute_result"
    }
   ],
   "source": [
    "len(le_n3[1])"
   ]
  },
  {
   "cell_type": "markdown",
   "metadata": {},
   "source": [
    "# Hallando $\\xi_3$\n",
    "\n",
    "Este valor se halla cuando:\n",
    "\n",
    "$$\\theta(\\xi)=0 \\Rightarrow \\xi=\\xi_3$$ para el caso de $n=3$"
   ]
  },
  {
   "cell_type": "code",
   "execution_count": 182,
   "metadata": {},
   "outputs": [],
   "source": [
    "import numpy as np\n",
    "def find_nearest(array, value):\n",
    "    idx = (np.abs(array - value)).argmin()\n",
    "    #le sumamos \"value\" para obtener el valor de ese número en esa fila,\n",
    "    #y no la diferencia\n",
    "    return array[idx+value] "
   ]
  },
  {
   "cell_type": "code",
   "execution_count": 184,
   "metadata": {},
   "outputs": [
    {
     "data": {
      "text/plain": [
       "array([ 2.48219738e-04,  2.05724094e-04,  1.63240779e-04,  1.20769790e-04,\n",
       "        7.83111194e-05,  3.58647632e-05, -6.56928446e-06, -4.89910288e-05,\n",
       "       -9.14004752e-05, -1.33797629e-04])"
      ]
     },
     "execution_count": 184,
     "metadata": {},
     "output_type": "execute_result"
    }
   ],
   "source": [
    "θ3[6890:6900]"
   ]
  },
  {
   "cell_type": "code",
   "execution_count": 183,
   "metadata": {},
   "outputs": [
    {
     "data": {
      "text/plain": [
       "-6.569284461539601e-06"
      ]
     },
     "execution_count": 183,
     "metadata": {},
     "output_type": "execute_result"
    }
   ],
   "source": [
    "#el valor más cercano a 0 de θ\n",
    "find_nearest(θ3,0)"
   ]
  },
  {
   "cell_type": "code",
   "execution_count": 131,
   "metadata": {},
   "outputs": [
    {
     "data": {
      "text/plain": [
       "7000"
      ]
     },
     "execution_count": 131,
     "metadata": {},
     "output_type": "execute_result"
    }
   ],
   "source": [
    "len(le_n3[1])"
   ]
  },
  {
   "cell_type": "code",
   "execution_count": 161,
   "metadata": {},
   "outputs": [
    {
     "data": {
      "text/plain": [
       "array([6896], dtype=int64)"
      ]
     },
     "execution_count": 161,
     "metadata": {},
     "output_type": "execute_result"
    }
   ],
   "source": [
    "min_n3=np.where(θ3==find_nearest(θ3,0))\n",
    "min_n3[0]"
   ]
  },
  {
   "cell_type": "code",
   "execution_count": 203,
   "metadata": {},
   "outputs": [
    {
     "data": {
      "text/plain": [
       "6.897000000000638"
      ]
     },
     "execution_count": 203,
     "metadata": {},
     "output_type": "execute_result"
    }
   ],
   "source": [
    "ξ_3=ξ3[min_n3[0][0]]\n",
    "ξ_3"
   ]
  },
  {
   "cell_type": "markdown",
   "metadata": {},
   "source": [
    "$$\\xi_3 = 6.897000000000638$$"
   ]
  },
  {
   "cell_type": "markdown",
   "metadata": {},
   "source": [
    "Por lo que ahora podemos calcular el radio de la estrella\n",
    "$$ r_\\star = \\alpha \\xi_3$$"
   ]
  },
  {
   "cell_type": "markdown",
   "metadata": {},
   "source": [
    "$$P_c = \\frac{1}{4\\pi (n+1)[\\theta'(\\xi_3)]}\\frac{GM_\\star^2}{R_\\star^4}$$"
   ]
  },
  {
   "cell_type": "code",
   "execution_count": 233,
   "metadata": {},
   "outputs": [
    {
     "data": {
      "text/plain": [
       "1.2464581551986666e+16"
      ]
     },
     "execution_count": 233,
     "metadata": {},
     "output_type": "execute_result"
    }
   ],
   "source": [
    "M_sun=1.9891e30 #Kg\n",
    "R_sun=6.955e8 #m\n",
    "G=6.67e-11\n",
    "n=3\n",
    "P_c= (G*M_sun**2)/(4*np.pi*(n+1)*(dθ3[6896])**2*R_sun**4)\n",
    "P_c"
   ]
  },
  {
   "cell_type": "markdown",
   "metadata": {},
   "source": [
    "$$P_c = 1.25x10^{16} N.m^{-2}$$"
   ]
  },
  {
   "cell_type": "markdown",
   "metadata": {},
   "source": [
    "$$\\rho_c=-\\left[\\frac{\\xi_3 }{3\\theta'(\\xi_3)}\\right]\\bar{\\rho}$$"
   ]
  },
  {
   "cell_type": "markdown",
   "metadata": {},
   "source": [
    "$$\\bar\\rho = \\frac{M}{\\frac{4}{3}\\pi R^3}$$"
   ]
  },
  {
   "cell_type": "code",
   "execution_count": 234,
   "metadata": {},
   "outputs": [
    {
     "data": {
      "text/plain": [
       "76482.85480067521"
      ]
     },
     "execution_count": 234,
     "metadata": {},
     "output_type": "execute_result"
    }
   ],
   "source": [
    "ρ_m=M_sun/(4/3 * np.pi *R_sun**3)\n",
    "ρ_c=-(ξ_3/(3*dθ3[6896]))*ρ_m\n",
    "ρ_c"
   ]
  },
  {
   "cell_type": "markdown",
   "metadata": {},
   "source": [
    "$$\\rho_c =7.65x10^4 \\quad kg .m^{-3}$$"
   ]
  },
  {
   "cell_type": "markdown",
   "metadata": {},
   "source": [
    "$$ <\\rho>=\\frac{M_\\odot}{\\frac{4}{3}\\pi R_\\odot^3}$$"
   ]
  },
  {
   "cell_type": "markdown",
   "metadata": {},
   "source": [
    "$$T_c=\\frac{P_c\\mu m_H}{<\\rho>k}$$"
   ]
  },
  {
   "cell_type": "markdown",
   "metadata": {},
   "source": [
    "https://web.njit.edu/~gary/320/Lecture22.html#:~:text=Again%2C%20for%20the%20Sun%20(at,0.01%2C%20so%20m%20~%200.6.&text=Tc%20%3D%20Pcmm,enough%20to%20permit%20nuclear%20fusion."
   ]
  },
  {
   "cell_type": "code",
   "execution_count": 228,
   "metadata": {},
   "outputs": [
    {
     "data": {
      "text/plain": [
       "1411.4860981657316"
      ]
     },
     "execution_count": 228,
     "metadata": {},
     "output_type": "execute_result"
    }
   ],
   "source": [
    "ρ_m"
   ]
  },
  {
   "cell_type": "code",
   "execution_count": 235,
   "metadata": {},
   "outputs": [
    {
     "data": {
      "text/plain": [
       "641194418.7874212"
      ]
     },
     "execution_count": 235,
     "metadata": {},
     "output_type": "execute_result"
    }
   ],
   "source": [
    "k=1.38e-23 #J/K\n",
    "\n",
    "μ=0.6\n",
    "T_c=(P_c*μ*mH)/(ρ_m*k)\n",
    "T_c"
   ]
  },
  {
   "cell_type": "markdown",
   "metadata": {},
   "source": [
    "$$T_c=6.412 x10^8 K$$"
   ]
  },
  {
   "cell_type": "markdown",
   "metadata": {},
   "source": [
    "$$T_c=\\frac{G m_H M_\\odot}{k R_\\odot}$$"
   ]
  },
  {
   "cell_type": "code",
   "execution_count": 238,
   "metadata": {},
   "outputs": [
    {
     "data": {
      "text/plain": [
       "23084618.49988018"
      ]
     },
     "execution_count": 238,
     "metadata": {},
     "output_type": "execute_result"
    }
   ],
   "source": [
    "#β=0.003\n",
    "#μ=0.6\n",
    "#T_c=19.72*β*μ*1e6 #Kelvin\n",
    "#T_c \n",
    "mH=1.67e-27 #Kg\n",
    "T_c=G*mH*M_sun/(k*R_sun)\n",
    "T_c"
   ]
  },
  {
   "cell_type": "markdown",
   "metadata": {},
   "source": [
    "$$T_c=2.3x10^7 K$$"
   ]
  },
  {
   "cell_type": "code",
   "execution_count": 239,
   "metadata": {
    "scrolled": false
   },
   "outputs": [
    {
     "data": {
      "image/png": "[encoded data removed]",
      "text/plain": [
       "<Figure size 432x288 with 1 Axes>"
      ]
     },
     "metadata": {
      "needs_background": "light"
     },
     "output_type": "display_data"
    }
   ],
   "source": [
    "import matplotlib.pyplot as plt\n",
    "from mpl_toolkits.mplot3d import Axes3D\n",
    "fig = plt.figure()\n",
    "ax = fig.add_subplot(111, projection='3d')\n",
    "ax.plot3D(ξ3,θ3,dθ3)\n",
    "plt.show()"
   ]
  },
  {
   "cell_type": "code",
   "execution_count": 8,
   "metadata": {},
   "outputs": [
    {
     "data": {
      "text/plain": [
       "70285396799.74387"
      ]
     },
     "execution_count": 8,
     "metadata": {},
     "output_type": "execute_result"
    }
   ],
   "source": [
    "rn"
   ]
  },
  {
   "cell_type": "code",
   "execution_count": 64,
   "metadata": {},
   "outputs": [
    {
     "data": {
      "text/plain": [
       "100000"
      ]
     },
     "execution_count": 64,
     "metadata": {},
     "output_type": "execute_result"
    }
   ],
   "source": [
    "100000"
   ]
  },
  {
   "cell_type": "code",
   "execution_count": 66,
   "metadata": {},
   "outputs": [
    {
     "data": {
      "text/plain": [
       "6.67e-08"
      ]
     },
     "execution_count": 66,
     "metadata": {},
     "output_type": "execute_result"
    }
   ],
   "source": [
    "G=6.67e-11 *(1e5) * (100)**2/(1000)**2\n",
    "G #dyna.cm^2/gm^2"
   ]
  },
  {
   "cell_type": "markdown",
   "metadata": {},
   "source": [
    "$$\\alpha =\\left[\\frac{P_c(n+1)}{4\\pi G\\rho_c^2}\\right]^{\\frac{1}{2}}$$\n",
    "\n",
    "\n",
    "$[\\alpha] = \\frac{dyne. gm^2 .cm^6}{cm^2. dyne. cm^2. gm^2}$"
   ]
  },
  {
   "cell_type": "code",
   "execution_count": 243,
   "metadata": {},
   "outputs": [
    {
     "data": {
      "text/plain": [
       "695500000.0000001"
      ]
     },
     "execution_count": 243,
     "metadata": {},
     "output_type": "execute_result"
    }
   ],
   "source": [
    "ξ_3*rn"
   ]
  },
  {
   "cell_type": "markdown",
   "metadata": {},
   "source": [
    "## ploteando $\\rho$ vs $r$"
   ]
  },
  {
   "cell_type": "code",
   "execution_count": 248,
   "metadata": {
    "scrolled": false
   },
   "outputs": [
    {
     "data": {
      "text/plain": [
       "Text(0, 0.5, 'ρ = $ρ_c$ $θ^n$')"
      ]
     },
     "execution_count": 248,
     "metadata": {},
     "output_type": "execute_result"
    },
    {
     "data": {
      "image/png": "[encoded data removed]",
      "text/plain": [
       "<Figure size 432x288 with 1 Axes>"
      ]
     },
     "metadata": {
      "needs_background": "light"
     },
     "output_type": "display_data"
    }
   ],
   "source": [
    "#Pc=2.65e15 *10# el *10 es la conversión de pascales a barias\n",
    "#G=6.67e-8 #\n",
    "#ρc=150 #g/cm3 #16e4 # Kg/m3\n",
    "n=3\n",
    "rn=( ((n+1)*P_c)/(4*np.pi*G*ρ_c**2) )**(1/2)\n",
    "plt.plot(np.array(ξ3*rn),(np.array(θ3)**n)*ρ_c)\n",
    "plt.axhline(y=0, color='r',linestyle='-')\n",
    "plt.xlabel('r=ξ$r_n$')\n",
    "plt.ylabel('ρ = $ρ_c$ $θ^n$')"
   ]
  },
  {
   "cell_type": "code",
   "execution_count": 260,
   "metadata": {},
   "outputs": [
    {
     "data": {
      "text/plain": [
       "array([ 7.64828548e+04,  7.64827741e+04,  7.64825969e+04, ...,\n",
       "       -5.78850657e-03, -5.95932686e-03, -6.13342492e-03])"
      ]
     },
     "execution_count": 260,
     "metadata": {},
     "output_type": "execute_result"
    }
   ],
   "source": [
    "ρ=(np.array(θ3)**n)*ρ_c\n",
    "ρ"
   ]
  },
  {
   "cell_type": "code",
   "execution_count": 262,
   "metadata": {},
   "outputs": [
    {
     "data": {
      "text/plain": [
       "<function matplotlib.pyplot.show(*args, **kw)>"
      ]
     },
     "execution_count": 262,
     "metadata": {},
     "output_type": "execute_result"
    },
    {
     "data": {
      "image/png": "[encoded data removed]",
      "text/plain": [
       "<Figure size 432x288 with 1 Axes>"
      ]
     },
     "metadata": {
      "needs_background": "light"
     },
     "output_type": "display_data"
    }
   ],
   "source": [
    "plt.plot(-np.array(ξ3*rn),(np.array(θ3)**n)*ρ_c)\n",
    "plt.plot(np.array(ξ3*rn),(np.array(θ3)**n)*ρ_c)\n",
    "plt.axhline(y=0, color='r',linestyle='-')\n",
    "plt.xlabel('r=ξ$r_n$')\n",
    "plt.ylabel('ρ = $ρ_c$ $θ^n$')\n",
    "plt.show"
   ]
  },
  {
   "cell_type": "markdown",
   "metadata": {},
   "source": [
    "## ploteando presión vs r"
   ]
  },
  {
   "cell_type": "markdown",
   "metadata": {},
   "source": [
    "$$P=P_c \\theta^{1+n}$$"
   ]
  },
  {
   "cell_type": "code",
   "execution_count": 276,
   "metadata": {},
   "outputs": [
    {
     "data": {
      "text/plain": [
       "<function matplotlib.pyplot.show(*args, **kw)>"
      ]
     },
     "execution_count": 276,
     "metadata": {},
     "output_type": "execute_result"
    },
    {
     "data": {
      "image/png": "[encoded data removed]",
      "text/plain": [
       "<Figure size 432x288 with 1 Axes>"
      ]
     },
     "metadata": {
      "needs_background": "light"
     },
     "output_type": "display_data"
    }
   ],
   "source": [
    "plt.plot(np.array(ξ3)*rn,P_c*θ3**(1+n))\n",
    "plt.plot(-np.array(ξ3)*rn,P_c*θ3**(1+n))\n",
    "plt.show"
   ]
  },
  {
   "cell_type": "markdown",
   "metadata": {},
   "source": [
    "## Temperatura vs r"
   ]
  },
  {
   "cell_type": "markdown",
   "metadata": {},
   "source": [
    "$$T(r) = T_c - \\frac{1}{8ac}\\frac{\\bar k \\rho_c^2}{T_c^3}\\epsilon_cr^2$$"
   ]
  },
  {
   "cell_type": "code",
   "execution_count": 278,
   "metadata": {},
   "outputs": [
    {
     "data": {
      "text/plain": [
       "23084618.49988018"
      ]
     },
     "execution_count": 278,
     "metadata": {},
     "output_type": "execute_result"
    }
   ],
   "source": [
    "T_c"
   ]
  },
  {
   "cell_type": "code",
   "execution_count": 277,
   "metadata": {},
   "outputs": [
    {
     "data": {
      "text/plain": [
       "[<matplotlib.lines.Line2D at 0x274d6d63400>]"
      ]
     },
     "execution_count": 277,
     "metadata": {},
     "output_type": "execute_result"
    },
    {
     "data": {
      "image/png": "[encoded data removed]",
      "text/plain": [
       "<Figure size 432x288 with 1 Axes>"
      ]
     },
     "metadata": {
      "needs_background": "light"
     },
     "output_type": "display_data"
    }
   ],
   "source": [
    "rr=np.array(ξ3)*rn\n",
    "T_arr= T_c*(1-(rr/R_sun)**2)\n",
    "\n",
    "plt.plot(rr,T_arr)"
   ]
  },
  {
   "cell_type": "markdown",
   "metadata": {},
   "source": [
    "$$P=K\\rho^{1+\\frac{1}{n}}$$"
   ]
  },
  {
   "cell_type": "markdown",
   "metadata": {},
   "source": [
    "$$P=\\rho^{\\frac{7}{3}+\\frac{1}{n}}$$"
   ]
  },
  {
   "cell_type": "code",
   "execution_count": 10,
   "metadata": {},
   "outputs": [
    {
     "data": {
      "text/plain": [
       "[<matplotlib.lines.Line2D at 0x28613ed4af0>]"
      ]
     },
     "execution_count": 10,
     "metadata": {},
     "output_type": "execute_result"
    },
    {
     "data": {
      "image/png": "[encoded data removed]",
      "text/plain": [
       "<Figure size 432x288 with 1 Axes>"
      ]
     },
     "metadata": {
      "needs_background": "light"
     },
     "output_type": "display_data"
    }
   ],
   "source": []
  },
  {
   "cell_type": "code",
   "execution_count": 11,
   "metadata": {},
   "outputs": [
    {
     "data": {
      "text/plain": [
       "array([ 1.59994371e+02,  1.59982016e+02,  1.59963850e+02,  1.59940160e+02,\n",
       "        1.59911048e+02,  1.59876563e+02,  1.59836732e+02,  1.59791574e+02,\n",
       "        1.59741105e+02,  1.59685336e+02,  1.59624283e+02,  1.59557957e+02,\n",
       "        1.59486373e+02,  1.59409543e+02,  1.59327483e+02,  1.59240208e+02,\n",
       "        1.59147734e+02,  1.59050077e+02,  1.58947255e+02,  1.58839287e+02,\n",
       "        1.58726192e+02,  1.58607989e+02,  1.58484701e+02,  1.58356349e+02,\n",
       "        1.58222954e+02,  1.58084542e+02,  1.57941135e+02,  1.57792759e+02,\n",
       "        1.57639440e+02,  1.57481205e+02,  1.57318080e+02,  1.57150093e+02,\n",
       "        1.56977275e+02,  1.56799653e+02,  1.56617259e+02,  1.56430124e+02,\n",
       "        1.56238279e+02,  1.56041756e+02,  1.55840590e+02,  1.55634813e+02,\n",
       "        1.55424460e+02,  1.55209566e+02,  1.54990167e+02,  1.54766298e+02,\n",
       "        1.54537998e+02,  1.54305303e+02,  1.54068251e+02,  1.53826881e+02,\n",
       "        1.53581232e+02,  1.53331343e+02,  1.53077255e+02,  1.52819008e+02,\n",
       "        1.52556643e+02,  1.52290202e+02,  1.52019727e+02,  1.51745259e+02,\n",
       "        1.51466843e+02,  1.51184521e+02,  1.50898336e+02,  1.50608333e+02,\n",
       "        1.50314555e+02,  1.50017048e+02,  1.49715856e+02,  1.49411025e+02,\n",
       "        1.49102600e+02,  1.48790627e+02,  1.48475151e+02,  1.48156220e+02,\n",
       "        1.47833880e+02,  1.47508176e+02,  1.47179157e+02,  1.46846870e+02,\n",
       "        1.46511361e+02,  1.46172677e+02,  1.45830868e+02,  1.45485979e+02,\n",
       "        1.45138060e+02,  1.44787157e+02,  1.44433319e+02,  1.44076593e+02,\n",
       "        1.43717028e+02,  1.43354672e+02,  1.42989573e+02,  1.42621778e+02,\n",
       "        1.42251337e+02,  1.41878296e+02,  1.41502705e+02,  1.41124611e+02,\n",
       "        1.40744063e+02,  1.40361107e+02,  1.39975792e+02,  1.39588165e+02,\n",
       "        1.39198275e+02,  1.38806168e+02,  1.38411892e+02,  1.38015494e+02,\n",
       "        1.37617022e+02,  1.37216522e+02,  1.36814041e+02,  1.36409626e+02,\n",
       "        1.36003322e+02,  1.35595177e+02,  1.35185236e+02,  1.34773545e+02,\n",
       "        1.34360150e+02,  1.33945095e+02,  1.33528426e+02,  1.33110189e+02,\n",
       "        1.32690426e+02,  1.32269183e+02,  1.31846504e+02,  1.31422432e+02,\n",
       "        1.30997011e+02,  1.30570284e+02,  1.30142294e+02,  1.29713084e+02,\n",
       "        1.29282696e+02,  1.28851171e+02,  1.28418551e+02,  1.27984878e+02,\n",
       "        1.27550192e+02,  1.27114535e+02,  1.26677946e+02,  1.26240465e+02,\n",
       "        1.25802132e+02,  1.25362986e+02,  1.24923066e+02,  1.24482410e+02,\n",
       "        1.24041056e+02,  1.23599042e+02,  1.23156406e+02,  1.22713184e+02,\n",
       "        1.22269413e+02,  1.21825129e+02,  1.21380368e+02,  1.20935165e+02,\n",
       "        1.20489556e+02,  1.20043574e+02,  1.19597255e+02,  1.19150631e+02,\n",
       "        1.18703737e+02,  1.18256605e+02,  1.17809269e+02,  1.17361759e+02,\n",
       "        1.16914109e+02,  1.16466349e+02,  1.16018510e+02,  1.15570624e+02,\n",
       "        1.15122719e+02,  1.14674827e+02,  1.14226976e+02,  1.13779196e+02,\n",
       "        1.13331515e+02,  1.12883961e+02,  1.12436561e+02,  1.11989344e+02,\n",
       "        1.11542337e+02,  1.11095565e+02,  1.10649055e+02,  1.10202833e+02,\n",
       "        1.09756925e+02,  1.09311354e+02,  1.08866146e+02,  1.08421325e+02,\n",
       "        1.07976915e+02,  1.07532939e+02,  1.07089420e+02,  1.06646381e+02,\n",
       "        1.06203844e+02,  1.05761831e+02,  1.05320363e+02,  1.04879462e+02,\n",
       "        1.04439149e+02,  1.03999442e+02,  1.03560364e+02,  1.03121933e+02,\n",
       "        1.02684169e+02,  1.02247090e+02,  1.01810715e+02,  1.01375063e+02,\n",
       "        1.00940150e+02,  1.00505996e+02,  1.00072616e+02,  9.96400276e+01,\n",
       "        9.92082473e+01,  9.87772912e+01,  9.83471750e+01,  9.79179143e+01,\n",
       "        9.74895241e+01,  9.70620192e+01,  9.66354142e+01,  9.62097231e+01,\n",
       "        9.57849598e+01,  9.53611378e+01,  9.49382703e+01,  9.45163703e+01,\n",
       "        9.40954503e+01,  9.36755227e+01,  9.32565994e+01,  9.28386922e+01,\n",
       "        9.24218124e+01,  9.20059712e+01,  9.15911794e+01,  9.11774477e+01,\n",
       "        9.07647862e+01,  9.03532051e+01,  8.99427140e+01,  8.95333224e+01,\n",
       "        8.91250395e+01,  8.87178743e+01,  8.83118355e+01,  8.79069314e+01,\n",
       "        8.75031703e+01,  8.71005602e+01,  8.66991086e+01,  8.62988232e+01,\n",
       "        8.58997109e+01,  8.55017790e+01,  8.51050340e+01,  8.47094825e+01,\n",
       "        8.43151308e+01,  8.39219850e+01,  8.35300509e+01,  8.31393342e+01,\n",
       "        8.27498403e+01,  8.23615743e+01,  8.19745414e+01,  8.15887463e+01,\n",
       "        8.12041936e+01,  8.08208877e+01,  8.04388328e+01,  8.00580330e+01,\n",
       "        7.96784922e+01,  7.93002138e+01,  7.89232015e+01,  7.85474585e+01,\n",
       "        7.81729879e+01,  7.77997927e+01,  7.74278756e+01,  7.70572393e+01,\n",
       "        7.66878861e+01,  7.63198184e+01,  7.59530382e+01,  7.55875476e+01,\n",
       "        7.52233483e+01,  7.48604420e+01,  7.44988301e+01,  7.41385142e+01,\n",
       "        7.37794953e+01,  7.34217745e+01,  7.30653529e+01,  7.27102311e+01,\n",
       "        7.23564099e+01,  7.20038898e+01,  7.16526713e+01,  7.13027545e+01,\n",
       "        7.09541397e+01,  7.06068268e+01,  7.02608159e+01,  6.99161068e+01,\n",
       "        6.95726990e+01,  6.92305923e+01,  6.88897860e+01,  6.85502796e+01,\n",
       "        6.82120722e+01,  6.78751631e+01,  6.75395513e+01,  6.72052358e+01,\n",
       "        6.68722153e+01,  6.65404887e+01,  6.62100547e+01,  6.58809118e+01,\n",
       "        6.55530585e+01,  6.52264932e+01,  6.49012142e+01,  6.45772198e+01,\n",
       "        6.42545081e+01,  6.39330772e+01,  6.36129250e+01,  6.32940496e+01,\n",
       "        6.29764487e+01,  6.26601201e+01,  6.23450616e+01,  6.20312707e+01,\n",
       "        6.17187450e+01,  6.14074820e+01,  6.10974792e+01,  6.07887339e+01,\n",
       "        6.04812434e+01,  6.01750050e+01,  5.98700159e+01,  5.95662732e+01,\n",
       "        5.92637740e+01,  5.89625153e+01,  5.86624941e+01,  5.83637073e+01,\n",
       "        5.80661519e+01,  5.77698245e+01,  5.74747221e+01,  5.71808412e+01,\n",
       "        5.68881787e+01,  5.65967312e+01,  5.63064953e+01,  5.60174674e+01,\n",
       "        5.57296443e+01,  5.54430223e+01,  5.51575979e+01,  5.48733675e+01,\n",
       "        5.45903276e+01,  5.43084743e+01,  5.40278041e+01,  5.37483133e+01,\n",
       "        5.34699980e+01,  5.31928546e+01,  5.29168792e+01,  5.26420679e+01,\n",
       "        5.23684169e+01,  5.20959224e+01,  5.18245804e+01,  5.15543869e+01,\n",
       "        5.12853381e+01,  5.10174300e+01,  5.07506585e+01,  5.04850196e+01,\n",
       "        5.02205093e+01,  4.99571235e+01,  4.96948583e+01,  4.94337094e+01,\n",
       "        4.91736727e+01,  4.89147442e+01,  4.86569197e+01,  4.84001951e+01,\n",
       "        4.81445662e+01,  4.78900288e+01,  4.76365787e+01,  4.73842118e+01,\n",
       "        4.71329238e+01,  4.68827105e+01,  4.66335677e+01,  4.63854912e+01,\n",
       "        4.61384767e+01,  4.58925199e+01,  4.56476167e+01,  4.54037627e+01,\n",
       "        4.51609538e+01,  4.49191855e+01,  4.46784537e+01,  4.44387540e+01,\n",
       "        4.42000822e+01,  4.39624341e+01,  4.37258052e+01,  4.34901914e+01,\n",
       "        4.32555883e+01,  4.30219916e+01,  4.27893971e+01,  4.25578005e+01,\n",
       "        4.23271975e+01,  4.20975838e+01,  4.18689550e+01,  4.16413070e+01,\n",
       "        4.14146355e+01,  4.11889361e+01,  4.09642046e+01,  4.07404367e+01,\n",
       "        4.05176281e+01,  4.02957747e+01,  4.00748721e+01,  3.98549161e+01,\n",
       "        3.96359023e+01,  3.94178267e+01,  3.92006849e+01,  3.89844728e+01,\n",
       "        3.87691860e+01,  3.85548204e+01,  3.83413718e+01,  3.81288359e+01,\n",
       "        3.79172086e+01,  3.77064857e+01,  3.74966630e+01,  3.72877363e+01,\n",
       "        3.70797014e+01,  3.68725543e+01,  3.66662908e+01,  3.64609067e+01,\n",
       "        3.62563979e+01,  3.60527603e+01,  3.58499899e+01,  3.56480824e+01,\n",
       "        3.54470338e+01,  3.52468401e+01,  3.50474971e+01,  3.48490009e+01,\n",
       "        3.46513474e+01,  3.44545325e+01,  3.42585523e+01,  3.40634027e+01,\n",
       "        3.38690798e+01,  3.36755795e+01,  3.34828979e+01,  3.32910311e+01,\n",
       "        3.30999751e+01,  3.29097259e+01,  3.27202796e+01,  3.25316324e+01,\n",
       "        3.23437803e+01,  3.21567195e+01,  3.19704461e+01,  3.17849562e+01,\n",
       "        3.16002460e+01,  3.14163117e+01,  3.12331494e+01,  3.10507554e+01,\n",
       "        3.08691258e+01,  3.06882570e+01,  3.05081451e+01,  3.03287863e+01,\n",
       "        3.01501771e+01,  2.99723135e+01,  2.97951921e+01,  2.96188089e+01,\n",
       "        2.94431605e+01,  2.92682430e+01,  2.90940530e+01,  2.89205867e+01,\n",
       "        2.87478405e+01,  2.85758108e+01,  2.84044941e+01,  2.82338867e+01,\n",
       "        2.80639852e+01,  2.78947859e+01,  2.77262853e+01,  2.75584800e+01,\n",
       "        2.73913664e+01,  2.72249411e+01,  2.70592005e+01,  2.68941412e+01,\n",
       "        2.67297599e+01,  2.65660529e+01,  2.64030171e+01,  2.62406488e+01,\n",
       "        2.60789449e+01,  2.59179019e+01,  2.57575164e+01,  2.55977852e+01,\n",
       "        2.54387048e+01,  2.52802721e+01,  2.51224837e+01,  2.49653364e+01,\n",
       "        2.48088268e+01,  2.46529518e+01,  2.44977080e+01,  2.43430924e+01,\n",
       "        2.41891017e+01,  2.40357327e+01,  2.38829822e+01,  2.37308472e+01,\n",
       "        2.35793244e+01,  2.34284107e+01,  2.32781030e+01,  2.31283983e+01,\n",
       "        2.29792934e+01,  2.28307853e+01,  2.26828709e+01,  2.25355473e+01,\n",
       "        2.23888113e+01,  2.22426600e+01,  2.20970904e+01,  2.19520994e+01,\n",
       "        2.18076843e+01,  2.16638419e+01,  2.15205694e+01,  2.13778639e+01,\n",
       "        2.12357224e+01,  2.10941420e+01,  2.09531200e+01,  2.08126533e+01,\n",
       "        2.06727393e+01,  2.05333750e+01,  2.03945577e+01,  2.02562844e+01,\n",
       "        2.01185526e+01,  1.99813593e+01,  1.98447018e+01,  1.97085774e+01,\n",
       "        1.95729833e+01,  1.94379169e+01,  1.93033753e+01,  1.91693560e+01,\n",
       "        1.90358563e+01,  1.89028735e+01,  1.87704049e+01,  1.86384479e+01,\n",
       "        1.85069999e+01,  1.83760583e+01,  1.82456206e+01,  1.81156840e+01,\n",
       "        1.79862461e+01,  1.78573043e+01,  1.77288560e+01,  1.76008988e+01,\n",
       "        1.74734302e+01,  1.73464476e+01,  1.72199485e+01,  1.70939305e+01,\n",
       "        1.69683911e+01,  1.68433279e+01,  1.67187385e+01,  1.65946203e+01,\n",
       "        1.64709711e+01,  1.63477884e+01,  1.62250699e+01,  1.61028132e+01,\n",
       "        1.59810159e+01,  1.58596756e+01,  1.57387902e+01,  1.56183571e+01,\n",
       "        1.54983742e+01,  1.53788392e+01,  1.52597497e+01,  1.51411035e+01,\n",
       "        1.50228984e+01,  1.49051321e+01,  1.47878024e+01,  1.46709070e+01,\n",
       "        1.45544438e+01,  1.44384105e+01,  1.43228051e+01,  1.42076252e+01,\n",
       "        1.40928688e+01,  1.39785337e+01,  1.38646178e+01,  1.37511190e+01,\n",
       "        1.36380351e+01,  1.35253641e+01,  1.34131038e+01,  1.33012522e+01,\n",
       "        1.31898073e+01,  1.30787669e+01,  1.29681291e+01,  1.28578918e+01,\n",
       "        1.27480530e+01,  1.26386106e+01,  1.25295628e+01,  1.24209074e+01,\n",
       "        1.23126426e+01,  1.22047663e+01,  1.20972767e+01,  1.19901718e+01,\n",
       "        1.18834496e+01,  1.17771082e+01,  1.16711458e+01,  1.15655604e+01,\n",
       "        1.14603501e+01,  1.13555131e+01,  1.12510475e+01,  1.11469515e+01,\n",
       "        1.10432231e+01,  1.09398606e+01,  1.08368622e+01,  1.07342260e+01,\n",
       "        1.06319502e+01,  1.05300331e+01,  1.04284728e+01,  1.03272677e+01,\n",
       "        1.02264158e+01,  1.01259155e+01,  1.00257650e+01,  9.92596262e+00,\n",
       "        9.82650661e+00,  9.72739525e+00,  9.62862685e+00,  9.53019970e+00,\n",
       "        9.43211214e+00,  9.33436247e+00,  9.23694905e+00,  9.13987020e+00,\n",
       "        9.04312429e+00,  8.94670968e+00,  8.85062474e+00,  8.75486785e+00,\n",
       "        8.65943741e+00,  8.56433181e+00,  8.46954947e+00,  8.37508880e+00,\n",
       "        8.28094823e+00,  8.18712620e+00,  8.09362115e+00,  8.00043153e+00,\n",
       "        7.90755582e+00,  7.81499248e+00,  7.72273999e+00,  7.63079684e+00,\n",
       "        7.53916153e+00,  7.44783257e+00,  7.35680847e+00,  7.26608776e+00,\n",
       "        7.17566896e+00,  7.08555063e+00,  6.99573130e+00,  6.90620953e+00,\n",
       "        6.81698389e+00,  6.72805296e+00,  6.63941531e+00,  6.55106954e+00,\n",
       "        6.46301425e+00,  6.37524803e+00,  6.28776950e+00,  6.20057730e+00,\n",
       "        6.11367003e+00,  6.02704636e+00,  5.94070491e+00,  5.85464435e+00,\n",
       "        5.76886333e+00,  5.68336052e+00,  5.59813461e+00,  5.51318427e+00,\n",
       "        5.42850819e+00,  5.34410509e+00,  5.25997365e+00,  5.17611260e+00,\n",
       "        5.09252067e+00,  5.00919657e+00,  4.92613904e+00,  4.84334683e+00,\n",
       "        4.76081869e+00,  4.67855338e+00,  4.59654966e+00,  4.51480630e+00,\n",
       "        4.43332208e+00,  4.35209580e+00,  4.27112624e+00,  4.19041221e+00,\n",
       "        4.10995250e+00,  4.02974594e+00,  3.94979135e+00,  3.87008756e+00,\n",
       "        3.79063339e+00,  3.71142769e+00,  3.63246931e+00,  3.55375710e+00,\n",
       "        3.47528993e+00,  3.39706666e+00,  3.31908617e+00,  3.24134733e+00,\n",
       "        3.16384904e+00,  3.08659019e+00,  3.00956967e+00,  2.93278640e+00,\n",
       "        2.85623929e+00,  2.77992725e+00,  2.70384922e+00,  2.62800412e+00,\n",
       "        2.55239089e+00,  2.47700848e+00,  2.40185583e+00,  2.32693191e+00,\n",
       "        2.25223566e+00,  2.17776607e+00,  2.10352210e+00,  2.02950274e+00,\n",
       "        1.95570697e+00,  1.88213378e+00,  1.80878217e+00,  1.73565115e+00,\n",
       "        1.66273971e+00,  1.59004689e+00,  1.51757169e+00,  1.44531314e+00,\n",
       "        1.37327028e+00,  1.30144215e+00,  1.22982778e+00,  1.15842622e+00,\n",
       "        1.08723653e+00,  1.01625777e+00,  9.45488998e-01,  8.74929291e-01,\n",
       "        8.04577722e-01,  7.34433371e-01,  6.64495327e-01,  5.94762679e-01,\n",
       "        5.25234525e-01,  4.55909967e-01,  3.86788111e-01,  3.17868071e-01,\n",
       "        2.49148965e-01,  1.80629913e-01,  1.12310045e-01,  4.41884930e-02,\n",
       "       -2.37356054e-02, -9.14631072e-02, -1.58994865e-01, -2.26331725e-01,\n",
       "       -2.93474532e-01, -3.60424121e-01, -4.27181327e-01, -4.93746976e-01,\n",
       "       -5.60121892e-01, -6.26306894e-01, -6.92302795e-01, -7.58110403e-01,\n",
       "       -8.23730524e-01, -8.89163957e-01, -9.54411497e-01, -1.01947393e+00,\n",
       "       -1.08435205e+00, -1.14904664e+00, -1.21355846e+00, -1.27788830e+00,\n",
       "       -1.34203692e+00, -1.40600508e+00, -1.46979355e+00, -1.53340308e+00,\n",
       "       -1.59683441e+00, -1.66008830e+00, -1.72316548e+00, -1.78606669e+00,\n",
       "       -1.84879267e+00, -1.91134415e+00, -1.97372184e+00, -2.03592647e+00,\n",
       "       -2.09795876e+00, -2.15981941e+00, -2.22150914e+00, -2.28302865e+00,\n",
       "       -2.34437863e+00, -2.40555979e+00, -2.46657282e+00, -2.52741840e+00,\n",
       "       -2.58809721e+00, -2.64860994e+00, -2.70895727e+00, -2.76913985e+00,\n",
       "       -2.82915837e+00, -2.88901349e+00, -2.94870586e+00, -3.00823615e+00,\n",
       "       -3.06760499e+00, -3.12681306e+00, -3.18586098e+00, -3.24474940e+00,\n",
       "       -3.30347896e+00, -3.36205029e+00, -3.42046403e+00, -3.47872079e+00,\n",
       "       -3.53682120e+00, -3.59476589e+00, -3.65255546e+00, -3.71019053e+00,\n",
       "       -3.76767171e+00, -3.82499960e+00, -3.88217480e+00, -3.93919791e+00,\n",
       "       -3.99606953e+00, -4.05279025e+00, -4.10936066e+00, -4.16578133e+00,\n",
       "       -4.22205286e+00, -4.27817581e+00, -4.33415077e+00, -4.38997830e+00,\n",
       "       -4.44565897e+00, -4.50119334e+00, -4.55658199e+00, -4.61182545e+00,\n",
       "       -4.66692430e+00, -4.72187907e+00, -4.77669032e+00, -4.83135860e+00,\n",
       "       -4.88588444e+00, -4.94026838e+00, -4.99451096e+00, -5.04861271e+00,\n",
       "       -5.10257416e+00, -5.15639584e+00, -5.21007827e+00, -5.26362197e+00,\n",
       "       -5.31702745e+00, -5.37029524e+00, -5.42342583e+00, -5.47641975e+00,\n",
       "       -5.52927749e+00, -5.58199956e+00, -5.63458645e+00, -5.68703867e+00,\n",
       "       -5.73935670e+00, -5.79154104e+00, -5.84359218e+00, -5.89551059e+00,\n",
       "       -5.94729677e+00, -5.99895118e+00, -6.05047432e+00, -6.10186664e+00,\n",
       "       -6.15312863e+00, -6.20426074e+00, -6.25526346e+00, -6.30613723e+00,\n",
       "       -6.35688252e+00, -6.40749978e+00, -6.45798948e+00, -6.50835205e+00,\n",
       "       -6.55858796e+00, -6.60869765e+00, -6.65868156e+00, -6.70854014e+00,\n",
       "       -6.75827382e+00, -6.80788304e+00, -6.85736823e+00, -6.90672983e+00,\n",
       "       -6.95596826e+00, -7.00508396e+00, -7.05407733e+00, -7.10294882e+00,\n",
       "       -7.15169882e+00, -7.20032777e+00, -7.24883608e+00, -7.29722415e+00,\n",
       "       -7.34549239e+00, -7.39364122e+00, -7.44167103e+00, -7.48958224e+00,\n",
       "       -7.53737523e+00, -7.58505041e+00, -7.63260817e+00, -7.68004890e+00,\n",
       "       -7.72737300e+00, -7.77458085e+00])"
      ]
     },
     "execution_count": 11,
     "metadata": {},
     "output_type": "execute_result"
    }
   ],
   "source": [
    "radio=np.array(xsol)*ρc\n",
    "radio[1:-174]"
   ]
  },
  {
   "cell_type": "code",
   "execution_count": 12,
   "metadata": {},
   "outputs": [],
   "source": [
    "asign=np.sign(radio)\n"
   ]
  },
  {
   "cell_type": "markdown",
   "metadata": {},
   "source": [
    "Coeficiente de precisión:\n",
    "\n",
    "$$ Q(t,k) = \\frac{v(t,k)-v(t,k/2)}{v(t,k/2)-v(t,k/4)} $$"
   ]
  },
  {
   "cell_type": "code",
   "execution_count": null,
   "metadata": {},
   "outputs": [],
   "source": []
  }
 ],
 "metadata": {
  "celltoolbar": "Slideshow",
  "kernelspec": {
   "display_name": "Python 3",
   "language": "python",
   "name": "python3"
  },
  "language_info": {
   "codemirror_mode": {
    "name": "ipython",
    "version": 3
   },
   "file_extension": ".py",
   "mimetype": "text/x-python",
   "name": "python",
   "nbconvert_exporter": "python",
   "pygments_lexer": "ipython3",
   "version": "3.8.3"
  }
 },
 "nbformat": 4,
 "nbformat_minor": 4
}
