{
 "cells": [
  {
   "cell_type": "markdown",
   "metadata": {
    "slideshow": {
     "slide_type": "slide"
    }
   },
   "source": [
    "# Solutions for the Lane-Emden with n=0"
   ]
  },
  {
   "cell_type": "code",
   "execution_count": 1,
   "metadata": {
    "slideshow": {
     "slide_type": "skip"
    }
   },
   "outputs": [],
   "source": [
    "from distutils.spawn import find_executable\n",
    "\n",
    "import matplotlib.pyplot as plt\n",
    "import numpy as np\n",
    "\n",
    "import seaborn\n",
    "\n",
    "rem = 12\n",
    "\n",
    "seaborn.set(context='notebook', style='darkgrid')\n",
    "\n",
    "plt.ioff()\n",
    "\n",
    "plt.rc('lines', linewidth=1)\n",
    "plt.rc('font', family='serif')\n",
    "plt.rc('font', size=rem)\n",
    "plt.rc('axes', titlepad=1.500*rem)\n",
    "plt.rc('axes', titlesize=1.728*rem)\n",
    "plt.rc('axes', labelsize=1.200*rem)\n",
    "plt.rc('legend', fontsize=1.000*rem)\n",
    "plt.rc('xtick', labelsize=0.833*rem)\n",
    "plt.rc('ytick', labelsize=0.833*rem)\n",
    "\n",
    "if find_executable('latex'):\n",
    "    plt.rc('text', usetex=True)\n",
    "\n",
    "material_palette = {\n",
    "    -1: \"#212121\",\n",
    "    0: \"#F44336\",\n",
    "    1: \"#E91E63\",\n",
    "    2: \"#9C27B0\",\n",
    "    3: \"#673AB7\",\n",
    "    4: \"#3F51B5\",\n",
    "    5: \"#2196F3\",\n",
    "    6: \"#03A9F4\",\n",
    "    7: \"#00BCD4\",\n",
    "    8: \"#009688\",\n",
    "    9: \"#4CAF50\",\n",
    "    10: \"#8BC34A\",\n",
    "    11: \"#CDDC39\",\n",
    "    12: \"#FFEB3B\",\n",
    "    13: \"#FFC107\",\n",
    "    14: \"#FF9800\",\n",
    "    15: \"#FF5722\",\n",
    "}"
   ]
  },
  {
   "cell_type": "code",
   "execution_count": 2,
   "metadata": {
    "slideshow": {
     "slide_type": "skip"
    }
   },
   "outputs": [],
   "source": [
    "%matplotlib inline"
   ]
  },
  {
   "cell_type": "code",
   "execution_count": 3,
   "metadata": {
    "slideshow": {
     "slide_type": "skip"
    }
   },
   "outputs": [],
   "source": [
    "from sympy import (\n",
    "    Eq as Equation,\n",
    "    Derivative,\n",
    "    Function,\n",
    "    Symbol,\n",
    "    lambdify,\n",
    "    simplify,\n",
    "    symbols,\n",
    "    dsolve,\n",
    "    solve,\n",
    ")"
   ]
  },
  {
   "cell_type": "code",
   "execution_count": 4,
   "metadata": {
    "slideshow": {
     "slide_type": "skip"
    }
   },
   "outputs": [],
   "source": [
    "n = Symbol(\"n\")\n",
    "xi = Symbol(\"xi\")\n",
    "theta = Function(\"theta\")"
   ]
  },
  {
   "cell_type": "code",
   "execution_count": 5,
   "metadata": {
    "slideshow": {
     "slide_type": "subslide"
    }
   },
   "outputs": [
    {
     "data": {
      "text/latex": [
       "$\\displaystyle \\frac{d^{2}}{d \\xi^{2}} \\theta{\\left(\\xi \\right)} + \\frac{2 \\frac{d}{d \\xi} \\theta{\\left(\\xi \\right)}}{\\xi}$"
      ],
      "text/plain": [
       "Derivative(theta(xi), (xi, 2)) + 2*Derivative(theta(xi), xi)/xi"
      ]
     },
     "execution_count": 5,
     "metadata": {},
     "output_type": "execute_result"
    }
   ],
   "source": [
    "lhs = simplify(\n",
    "    (1 / xi ** 2) * Derivative(\n",
    "        (xi ** 2) * Derivative(theta(xi), xi), xi\n",
    "    ).doit()\n",
    ")\n",
    "lhs"
   ]
  },
  {
   "cell_type": "code",
   "execution_count": 6,
   "metadata": {
    "slideshow": {
     "slide_type": "fragment"
    }
   },
   "outputs": [
    {
     "data": {
      "text/latex": [
       "$\\displaystyle - \\theta^{n}{\\left(\\xi \\right)}$"
      ],
      "text/plain": [
       "-theta(xi)**n"
      ]
     },
     "execution_count": 6,
     "metadata": {},
     "output_type": "execute_result"
    }
   ],
   "source": [
    "rhs = -theta(xi) ** n\n",
    "rhs"
   ]
  },
  {
   "cell_type": "code",
   "execution_count": 7,
   "metadata": {
    "slideshow": {
     "slide_type": "subslide"
    }
   },
   "outputs": [
    {
     "data": {
      "text/latex": [
       "$\\displaystyle \\frac{d^{2}}{d \\xi^{2}} \\theta{\\left(\\xi \\right)} + \\frac{2 \\frac{d}{d \\xi} \\theta{\\left(\\xi \\right)}}{\\xi} = - \\theta^{n}{\\left(\\xi \\right)}$"
      ],
      "text/plain": [
       "Eq(Derivative(theta(xi), (xi, 2)) + 2*Derivative(theta(xi), xi)/xi, -theta(xi)**n)"
      ]
     },
     "execution_count": 7,
     "metadata": {},
     "output_type": "execute_result"
    }
   ],
   "source": [
    "lane_endem_eq = Equation(lhs, rhs)\n",
    "lane_endem_eq"
   ]
  },
  {
   "cell_type": "markdown",
   "metadata": {
    "slideshow": {
     "slide_type": "fragment"
    }
   },
   "source": [
    "Reemplazando n=0:"
   ]
  },
  {
   "cell_type": "code",
   "execution_count": 8,
   "metadata": {
    "slideshow": {
     "slide_type": "fragment"
    }
   },
   "outputs": [
    {
     "data": {
      "text/latex": [
       "$\\displaystyle \\frac{d^{2}}{d \\xi^{2}} \\theta{\\left(\\xi \\right)} + \\frac{2 \\frac{d}{d \\xi} \\theta{\\left(\\xi \\right)}}{\\xi} = -1$"
      ],
      "text/plain": [
       "Eq(Derivative(theta(xi), (xi, 2)) + 2*Derivative(theta(xi), xi)/xi, -1)"
      ]
     },
     "execution_count": 8,
     "metadata": {},
     "output_type": "execute_result"
    }
   ],
   "source": [
    "lane_endem_eq_0 = lane_endem_eq.subs(n, 0)\n",
    "lane_endem_eq_0"
   ]
  },
  {
   "cell_type": "code",
   "execution_count": 9,
   "metadata": {
    "slideshow": {
     "slide_type": "subslide"
    }
   },
   "outputs": [
    {
     "data": {
      "text/latex": [
       "$\\displaystyle \\theta{\\left(\\xi \\right)} = C_{1} + \\frac{C_{2}}{\\xi} - \\frac{\\xi^{2}}{6}$"
      ],
      "text/plain": [
       "Eq(theta(xi), C1 + C2/xi - xi**2/6)"
      ]
     },
     "execution_count": 9,
     "metadata": {},
     "output_type": "execute_result"
    }
   ],
   "source": [
    "solution = dsolve(lane_endem_eq_0, theta(xi))\n",
    "solution"
   ]
  },
  {
   "cell_type": "code",
   "execution_count": 10,
   "metadata": {
    "slideshow": {
     "slide_type": "skip"
    }
   },
   "outputs": [
    {
     "data": {
      "text/plain": [
       "{C1: 1, C2: 0}"
      ]
     },
     "execution_count": 10,
     "metadata": {},
     "output_type": "execute_result"
    }
   ],
   "source": [
    "constants = solve(\n",
    "    [\n",
    "        simplify(xi * solution.rhs).subs(xi, 0),\n",
    "        Derivative(\n",
    "            simplify(xi * solution.rhs), xi\n",
    "        ).doit().subs(xi, 0) - 1,\n",
    "    ],\n",
    "    symbols('C1 C2'),\n",
    ")\n",
    "constants"
   ]
  },
  {
   "cell_type": "markdown",
   "metadata": {},
   "source": [
    "$$C1= 1,  C2=0$$"
   ]
  },
  {
   "cell_type": "code",
   "execution_count": 11,
   "metadata": {
    "slideshow": {
     "slide_type": "subslide"
    }
   },
   "outputs": [
    {
     "data": {
      "text/latex": [
       "$\\displaystyle \\theta{\\left(\\xi \\right)} = 1 - \\frac{\\xi^{2}}{6}$"
      ],
      "text/plain": [
       "Eq(theta(xi), 1 - xi**2/6)"
      ]
     },
     "execution_count": 11,
     "metadata": {},
     "output_type": "execute_result"
    }
   ],
   "source": [
    "solution = solution.subs(constants)\n",
    "solution"
   ]
  },
  {
   "cell_type": "code",
   "execution_count": 12,
   "metadata": {},
   "outputs": [
    {
     "data": {
      "text/plain": [
       "[-sqrt(6), sqrt(6)]"
      ]
     },
     "execution_count": 12,
     "metadata": {},
     "output_type": "execute_result"
    }
   ],
   "source": [
    "theta_zeros = solve(solution.rhs, xi)\n",
    "theta_zeros"
   ]
  },
  {
   "cell_type": "code",
   "execution_count": 13,
   "metadata": {},
   "outputs": [],
   "source": [
    "num_theta_f = lambdify(xi, solution.rhs, \"numpy\")"
   ]
  },
  {
   "cell_type": "code",
   "execution_count": 15,
   "metadata": {},
   "outputs": [
    {
     "data": {
      "image/png": "[encoded data removed]",
      "text/plain": [
       "<Figure size 810x324 with 1 Axes>"
      ]
     },
     "metadata": {
      "needs_background": "light"
     },
     "output_type": "display_data"
    }
   ],
   "source": [
    "n_xi = np.linspace(0, 10, 101)\n",
    "n_theta = num_theta_f(n_xi)\n",
    "\n",
    "fig = plt.figure(figsize=(11.25, 4.5), frameon=False)\n",
    "axs = fig.add_subplot(1, 1, 1)\n",
    "\n",
    "axs.plot(\n",
    "    n_xi, \n",
    "    n_theta, \n",
    "    color=material_palette[1],\n",
    "    label=r\"$\\theta_0(\\xi)$\"\n",
    ")\n",
    "axs.legend()\n",
    "axs.set_title(r\"Solution for Lane-Endem equation for $n=0$\")\n",
    "axs.set_xlim([0, 10])\n",
    "axs.set_xlabel(r\"$\\xi$\")\n",
    "axs.set_ylim([-2, 2])\n",
    "axs.set_ylabel(r\"$\\theta_0(\\xi)$\")\n",
    "plt.tight_layout()\n",
    "plt.show()"
   ]
  },
  {
   "cell_type": "code",
   "execution_count": null,
   "metadata": {},
   "outputs": [],
   "source": []
  }
 ],
 "metadata": {
  "celltoolbar": "Slideshow",
  "kernelspec": {
   "display_name": "Python 3",
   "language": "python",
   "name": "python3"
  },
  "language_info": {
   "codemirror_mode": {
    "name": "ipython",
    "version": 3
   },
   "file_extension": ".py",
   "mimetype": "text/x-python",
   "name": "python",
   "nbconvert_exporter": "python",
   "pygments_lexer": "ipython3",
   "version": "3.8.3"
  }
 },
 "nbformat": 4,
 "nbformat_minor": 4
}
